{
 "cells": [
  {
   "cell_type": "code",
   "id": "initial_id",
   "metadata": {
    "collapsed": true,
    "ExecuteTime": {
     "end_time": "2024-12-13T21:23:09.107858Z",
     "start_time": "2024-12-13T21:23:09.105054Z"
    }
   },
   "source": [
    "from dotenv import load_dotenv\n",
    "load_dotenv()  # take environment variables from .env.\n",
    "\n",
    "from main import client"
   ],
   "outputs": [],
   "execution_count": 12
  },
  {
   "metadata": {
    "ExecuteTime": {
     "end_time": "2024-12-13T21:23:09.118443Z",
     "start_time": "2024-12-13T21:23:09.115492Z"
    }
   },
   "cell_type": "code",
   "source": [
    "class Agent:\n",
    "    def __init__(self, system):\n",
    "        self.system = system\n",
    "        self.messages = []\n",
    "        if self.system:\n",
    "            self.messages.append({\"role\": \"system\", \"content\": self.system})\n",
    "\n",
    "    def __call__(self, message):\n",
    "        self.messages.append({\"role\": \"user\", \"content\": message})\n",
    "        result = self.execute()\n",
    "        self.messages.append({\"role\": \"assistant\", \"content\": result})\n",
    "        return result\n",
    "\n",
    "    def execute(self):\n",
    "        completion = client.chat.completions.create(model=\"gpt-4-0125-preview\", temperature=0, messages=self.messages)\n",
    "        return completion.choices[0].message.content"
   ],
   "id": "946c5a823d0f97fa",
   "outputs": [],
   "execution_count": 13
  },
  {
   "metadata": {
    "ExecuteTime": {
     "end_time": "2024-12-13T21:23:09.171668Z",
     "start_time": "2024-12-13T21:23:09.165238Z"
    }
   },
   "cell_type": "code",
   "source": [
    "prompt = \"\"\"\n",
    "    You run in a loop of Thought, Action, PAUSE, Observation.\n",
    "    At the end of the loop you output an Answer\n",
    "    Use Thought to describe your thoughts about the question you have been asked.\n",
    "    Use Action to run one of the actions available to you - then return PAUSE.\n",
    "    Observation will be the result of running those actions.\n",
    "\n",
    "    Your available actions are:\n",
    "\n",
    "    calculate:\n",
    "    e.g. calculate: 4 * 7 / 3\n",
    "    Runs a calculation and returns the number - uses Python so be sure to use floating point syntax if necessary\n",
    "\n",
    "    average_dog_weight:\n",
    "    e.g. average_dog_weight: Collie\n",
    "    returns average weight of a dog when given the breed\n",
    "\n",
    "    Example session:\n",
    "\n",
    "    Question: How much does a Bulldog weigh?\n",
    "    Thought: I should look the dogs weight using average_dog_weight\n",
    "    Action: average_dog_weight: Bulldog\n",
    "    PAUSE\n",
    "\n",
    "    You will be called again with this:\n",
    "\n",
    "    Observation: A Bulldog weights 51 lbs\n",
    "\n",
    "    You then output:\n",
    "\n",
    "    Answer: A bulldog weights 51 lbs\n",
    "    \"\"\".strip()"
   ],
   "id": "e5c5eac6fc25d258",
   "outputs": [],
   "execution_count": 14
  },
  {
   "metadata": {
    "ExecuteTime": {
     "end_time": "2024-12-13T21:23:09.220909Z",
     "start_time": "2024-12-13T21:23:09.216592Z"
    }
   },
   "cell_type": "code",
   "source": [
    "def calculate(what):\n",
    "    return eval(what)\n",
    "\n",
    "def average_dog_weight(name):\n",
    "    if \"Scottish Terrier\" in name:\n",
    "        return \"Scottish Terriers average 20 lbs\"\n",
    "    elif \"Border Collie\" in name:\n",
    "        return \"a Border Collies average weight is 37 lbs\"\n",
    "    elif \"Toy Poodle\" in name:\n",
    "        return \"a toy poodles average weight is 7 lbs\"\n",
    "    else:\n",
    "        return \"An average dog weights 50 lbs\"\n",
    "    \n",
    "known_actions = {\"calculate\": calculate, \"average_dog_weight\": average_dog_weight}\n"
   ],
   "id": "f1ccfb3ef13e2545",
   "outputs": [],
   "execution_count": 15
  },
  {
   "metadata": {
    "ExecuteTime": {
     "end_time": "2024-12-13T21:23:12.018142Z",
     "start_time": "2024-12-13T21:23:09.270005Z"
    }
   },
   "cell_type": "code",
   "source": [
    "abot = Agent(prompt)\n",
    "result = abot(\"How much does a toy poodle weigh?\")\n",
    "print(result)\n",
    "result = average_dog_weight(\" Toy Poodle\")\n",
    "print(result)\n",
    "next_prompt = f\"Observation: {result}\"\n",
    "result = abot(next_prompt)\n",
    "print(result)"
   ],
   "id": "86d82b38f5706736",
   "outputs": [
    {
     "name": "stdout",
     "output_type": "stream",
     "text": [
      "Thought: I should look up the dog's weight using average_dog_weight for a Toy Poodle.\n",
      "Action: average_dog_weight: Toy Poodle\n",
      "PAUSE\n",
      "a toy poodles average weight is 7 lbs\n",
      "Answer: A Toy Poodle weighs an average of 7 lbs.\n"
     ]
    }
   ],
   "execution_count": 16
  },
  {
   "metadata": {
    "ExecuteTime": {
     "end_time": "2024-12-13T21:24:04.818325Z",
     "start_time": "2024-12-13T21:24:04.811573Z"
    }
   },
   "cell_type": "code",
   "source": "abot.messages",
   "id": "62dad77e1b047e60",
   "outputs": [
    {
     "data": {
      "text/plain": [
       "[{'role': 'system',\n",
       "  'content': 'You run in a loop of Thought, Action, PAUSE, Observation.\\n    At the end of the loop you output an Answer\\n    Use Thought to describe your thoughts about the question you have been asked.\\n    Use Action to run one of the actions available to you - then return PAUSE.\\n    Observation will be the result of running those actions.\\n\\n    Your available actions are:\\n\\n    calculate:\\n    e.g. calculate: 4 * 7 / 3\\n    Runs a calculation and returns the number - uses Python so be sure to use floating point syntax if necessary\\n\\n    average_dog_weight:\\n    e.g. average_dog_weight: Collie\\n    returns average weight of a dog when given the breed\\n\\n    Example session:\\n\\n    Question: How much does a Bulldog weigh?\\n    Thought: I should look the dogs weight using average_dog_weight\\n    Action: average_dog_weight: Bulldog\\n    PAUSE\\n\\n    You will be called again with this:\\n\\n    Observation: A Bulldog weights 51 lbs\\n\\n    You then output:\\n\\n    Answer: A bulldog weights 51 lbs'},\n",
       " {'role': 'user', 'content': 'How much does a toy poodle weigh?'},\n",
       " {'role': 'assistant',\n",
       "  'content': \"Thought: I should look up the dog's weight using average_dog_weight for a Toy Poodle.\\nAction: average_dog_weight: Toy Poodle\\nPAUSE\"},\n",
       " {'role': 'user',\n",
       "  'content': 'Observation: a toy poodles average weight is 7 lbs'},\n",
       " {'role': 'assistant',\n",
       "  'content': 'Answer: A Toy Poodle weighs an average of 7 lbs.'}]"
      ]
     },
     "execution_count": 17,
     "metadata": {},
     "output_type": "execute_result"
    }
   ],
   "execution_count": 17
  },
  {
   "metadata": {},
   "cell_type": "markdown",
   "source": "### Let's move with more complex Task\n",
   "id": "34784b237d175404"
  },
  {
   "metadata": {
    "ExecuteTime": {
     "end_time": "2024-12-13T21:32:50.379156Z",
     "start_time": "2024-12-13T21:32:50.376281Z"
    }
   },
   "cell_type": "code",
   "source": "abot = Agent(prompt)",
   "id": "7a80fd1230762981",
   "outputs": [],
   "execution_count": 25
  },
  {
   "metadata": {
    "ExecuteTime": {
     "end_time": "2024-12-13T21:32:55.706629Z",
     "start_time": "2024-12-13T21:32:53.358212Z"
    }
   },
   "cell_type": "code",
   "source": [
    "question = \"\"\"\n",
    "I have 2 dogs, a border collie and a scottish terrier.\\\n",
    "What is their combined weight.\n",
    "\"\"\".strip()\n",
    "abot(question)"
   ],
   "id": "ea0413757f52f33b",
   "outputs": [
    {
     "data": {
      "text/plain": [
       "'Thought: To find the combined weight of the two dogs, I need to first find the average weight of a Border Collie and a Scottish Terrier separately. Then, I will add those weights together to get the total combined weight.\\nAction: average_dog_weight: Border Collie\\nPAUSE'"
      ]
     },
     "execution_count": 26,
     "metadata": {},
     "output_type": "execute_result"
    }
   ],
   "execution_count": 26
  },
  {
   "metadata": {
    "ExecuteTime": {
     "end_time": "2024-12-13T21:31:57.978875Z",
     "start_time": "2024-12-13T21:31:56.011434Z"
    }
   },
   "cell_type": "code",
   "source": [
    "question = \"\"\"I have 2 dogs, a border collie and a scottish terrier. \\\n",
    "What is their combined weight\"\"\"\n",
    "abot(question)"
   ],
   "id": "68ab15495a28bb3b",
   "outputs": [
    {
     "data": {
      "text/plain": [
       "\"Thought: To find the combined weight of a Border Collie and a Scottish Terrier, I need to first find the average weight of each breed and then add them together. I'll start with the Border Collie.\\nAction: average_dog_weight: Border Collie\\nPAUSE\""
      ]
     },
     "execution_count": 24,
     "metadata": {},
     "output_type": "execute_result"
    }
   ],
   "execution_count": 24
  },
  {
   "metadata": {
    "ExecuteTime": {
     "end_time": "2024-12-13T21:35:26.684035Z",
     "start_time": "2024-12-13T21:35:26.681374Z"
    }
   },
   "cell_type": "code",
   "source": [
    "next_prompt=f\"Observation: {average_dog_weight('Border Collie')}\"\n",
    "next_prompt"
   ],
   "id": "e4490fa046b714c",
   "outputs": [
    {
     "data": {
      "text/plain": [
       "'Observation: a Border Collies average weight is 37 lbs'"
      ]
     },
     "execution_count": 28,
     "metadata": {},
     "output_type": "execute_result"
    }
   ],
   "execution_count": 28
  },
  {
   "metadata": {
    "ExecuteTime": {
     "end_time": "2024-12-13T21:35:58.091027Z",
     "start_time": "2024-12-13T21:35:55.735739Z"
    }
   },
   "cell_type": "code",
   "source": "abot(next_prompt)",
   "id": "dc5f823d2f44fec8",
   "outputs": [
    {
     "data": {
      "text/plain": [
       "'Thought: Now that I know the average weight of a Border Collie is 37 lbs, I need to find the average weight of a Scottish Terrier to calculate the combined weight.\\nAction: average_dog_weight: Scottish Terrier\\nPAUSE'"
      ]
     },
     "execution_count": 29,
     "metadata": {},
     "output_type": "execute_result"
    }
   ],
   "execution_count": 29
  },
  {
   "metadata": {
    "ExecuteTime": {
     "end_time": "2024-12-13T21:36:47.101863Z",
     "start_time": "2024-12-13T21:36:47.097651Z"
    }
   },
   "cell_type": "code",
   "source": [
    "next_prompt=f\"Observation: {average_dog_weight('Scottish Terrier')}\"\n",
    "next_prompt"
   ],
   "id": "b45e0419b01a9cd6",
   "outputs": [
    {
     "data": {
      "text/plain": [
       "'Observation: Scottish Terriers average 20 lbs'"
      ]
     },
     "execution_count": 30,
     "metadata": {},
     "output_type": "execute_result"
    }
   ],
   "execution_count": 30
  },
  {
   "metadata": {
    "ExecuteTime": {
     "end_time": "2024-12-13T21:37:08.140177Z",
     "start_time": "2024-12-13T21:37:05.696649Z"
    }
   },
   "cell_type": "code",
   "source": "abot(next_prompt)",
   "id": "4872bd96d22abebf",
   "outputs": [
    {
     "data": {
      "text/plain": [
       "'Thought: With the average weight of a Border Collie being 37 lbs and a Scottish Terrier being 20 lbs, I can now calculate their combined weight.\\nAction: calculate: 37 + 20\\nPAUSE'"
      ]
     },
     "execution_count": 31,
     "metadata": {},
     "output_type": "execute_result"
    }
   ],
   "execution_count": 31
  },
  {
   "metadata": {
    "ExecuteTime": {
     "end_time": "2024-12-13T21:38:47.457287Z",
     "start_time": "2024-12-13T21:38:47.453357Z"
    }
   },
   "cell_type": "code",
   "source": [
    "next_prompt = f\"Observation: {calculate(\"37+20\")}\"\n",
    "next_prompt"
   ],
   "id": "7e3693000ec658ab",
   "outputs": [
    {
     "data": {
      "text/plain": [
       "'Observation: 57'"
      ]
     },
     "execution_count": 32,
     "metadata": {},
     "output_type": "execute_result"
    }
   ],
   "execution_count": 32
  },
  {
   "metadata": {
    "ExecuteTime": {
     "end_time": "2024-12-13T21:39:15.532929Z",
     "start_time": "2024-12-13T21:39:14.139665Z"
    }
   },
   "cell_type": "code",
   "source": "abot(next_prompt)",
   "id": "c6c682b62fa5798d",
   "outputs": [
    {
     "data": {
      "text/plain": [
       "'Answer: The combined weight of a Border Collie and a Scottish Terrier is 57 lbs.'"
      ]
     },
     "execution_count": 33,
     "metadata": {},
     "output_type": "execute_result"
    }
   ],
   "execution_count": 33
  },
  {
   "metadata": {},
   "cell_type": "markdown",
   "source": "### Automate the Whole Process",
   "id": "b1130b27a7ee2db1"
  },
  {
   "metadata": {
    "ExecuteTime": {
     "end_time": "2024-12-13T21:55:46.015655Z",
     "start_time": "2024-12-13T21:55:46.012732Z"
    }
   },
   "cell_type": "code",
   "source": [
    "import re\n",
    "# action_re = re.compile(r\"Action: (.*)\\nPAUSE\")\n",
    "action_re = re.compile(r\"Action: (\\w+): (.*)\\nPAUSE\")"
   ],
   "id": "72f26b1b71c0001e",
   "outputs": [],
   "execution_count": 47
  },
  {
   "metadata": {
    "ExecuteTime": {
     "end_time": "2024-12-13T22:11:28.935346Z",
     "start_time": "2024-12-13T22:11:26.165658Z"
    }
   },
   "cell_type": "code",
   "source": [
    "def query(question, max_iterations=5):\n",
    "    i=0\n",
    "    bot = Agent(prompt)\n",
    "    next_prompt = question\n",
    "    while i < max_iterations:\n",
    "        i += 1\n",
    "        result = bot(next_prompt)\n",
    "        print(result)\n",
    "        actions = action_re.findall(result)\n",
    "        if actions:\n",
    "            action, action_input = actions[0]\n",
    "        else:\n",
    "            return\n",
    "        print(action,action_input)\n",
    "        if action not in known_actions:\n",
    "            raise Exception(f\"Unknown action: {action}\")\n",
    "        print(f\"---Executing action {action} with input {action_input}---\")\n",
    "        observation = known_actions[action](action_input)   \n",
    "        print(f\"Observation: {observation}\")\n",
    "        next_prompt = f\"Observation: {observation}\"\n",
    "        \n",
    "        \n",
    "query(\"How much does a toy poodle weigh\")\n"
   ],
   "id": "d3f0ebb332246616",
   "outputs": [
    {
     "name": "stdout",
     "output_type": "stream",
     "text": [
      "Thought: I should look up the dog's weight using average_dog_weight for a Toy Poodle.\n",
      "Action: average_dog_weight: Toy Poodle\n",
      "PAUSE\n",
      "average_dog_weight Toy Poodle\n",
      "---Executing action average_dog_weight with input Toy Poodle---\n",
      "Observation: a toy poodles average weight is 7 lbs\n",
      "Answer: A Toy Poodle weighs 7 lbs.\n"
     ]
    }
   ],
   "execution_count": 55
  },
  {
   "metadata": {
    "ExecuteTime": {
     "end_time": "2024-12-13T22:11:40.294395Z",
     "start_time": "2024-12-13T22:11:31.253716Z"
    }
   },
   "cell_type": "code",
   "source": [
    "question = \"\"\"I have 2 dogs, a border collie and a scottish terrier. \\\n",
    "What is their combined weight\"\"\"\n",
    "query(question)"
   ],
   "id": "2a606e182669606a",
   "outputs": [
    {
     "name": "stdout",
     "output_type": "stream",
     "text": [
      "Thought: To find the combined weight of a Border Collie and a Scottish Terrier, I need to find the average weight of each breed and then add them together. I'll start by finding the average weight of a Border Collie.\n",
      "\n",
      "Action: average_dog_weight: Border Collie\n",
      "PAUSE\n",
      "average_dog_weight Border Collie\n",
      "---Executing action average_dog_weight with input Border Collie---\n",
      "Observation: a Border Collies average weight is 37 lbs\n",
      "Thought: Now that I know the average weight of a Border Collie is 37 lbs, I need to find the average weight of a Scottish Terrier to calculate the combined weight.\n",
      "\n",
      "Action: average_dog_weight: Scottish Terrier\n",
      "PAUSE\n",
      "average_dog_weight Scottish Terrier\n",
      "---Executing action average_dog_weight with input Scottish Terrier---\n",
      "Observation: Scottish Terriers average 20 lbs\n",
      "Thought: With the average weight of a Border Collie being 37 lbs and a Scottish Terrier being 20 lbs, I can now calculate their combined weight.\n",
      "\n",
      "Action: calculate: 37 + 20\n",
      "PAUSE\n",
      "calculate 37 + 20\n",
      "---Executing action calculate with input 37 + 20---\n",
      "Observation: 57\n",
      "Answer: The combined weight of a Border Collie and a Scottish Terrier is 57 lbs.\n"
     ]
    }
   ],
   "execution_count": 56
  },
  {
   "metadata": {
    "ExecuteTime": {
     "end_time": "2024-12-13T22:15:54.088680Z",
     "start_time": "2024-12-13T22:15:41.740723Z"
    }
   },
   "cell_type": "code",
   "source": [
    "question = \"\"\"I have 3 dogs, a border collie, toy poodles and a scottish terrier. \\\n",
    "What is their combined weight and also average weight of the dogs upto 2 decimals places\"\"\"\n",
    "query(question)"
   ],
   "id": "7ca5b3fc3a3c0826",
   "outputs": [
    {
     "name": "stdout",
     "output_type": "stream",
     "text": [
      "Thought: To find the combined and average weight of the three dogs, I need to first find the average weight of each breed: Border Collie, Toy Poodle, and Scottish Terrier. Then, I will add these weights together to get the combined weight. Finally, I will divide the combined weight by 3 to get the average weight of the dogs. I will start with the Border Collie.\n",
      "Action: average_dog_weight: Border Collie\n",
      "PAUSE\n",
      "average_dog_weight Border Collie\n",
      "---Executing action average_dog_weight with input Border Collie---\n",
      "Observation: a Border Collies average weight is 37 lbs\n",
      "Thought: Now that I know the average weight of a Border Collie is 37 lbs, I need to find the average weight of a Toy Poodle next.\n",
      "Action: average_dog_weight: Toy Poodle\n",
      "PAUSE\n",
      "average_dog_weight Toy Poodle\n",
      "---Executing action average_dog_weight with input Toy Poodle---\n",
      "Observation: a toy poodles average weight is 7 lbs\n",
      "Thought: With the average weight of a Toy Poodle known to be 7 lbs, the next step is to find the average weight of a Scottish Terrier.\n",
      "Action: average_dog_weight: Scottish Terrier\n",
      "PAUSE\n",
      "average_dog_weight Scottish Terrier\n",
      "---Executing action average_dog_weight with input Scottish Terrier---\n",
      "Observation: Scottish Terriers average 20 lbs\n",
      "Thought: Now that I have the average weights of all three dog breeds (Border Collie: 37 lbs, Toy Poodle: 7 lbs, Scottish Terrier: 20 lbs), I can calculate their combined weight and the average weight of the dogs. To find the combined weight, I will add 37 lbs + 7 lbs + 20 lbs. Then, to find the average weight, I will divide the combined weight by 3. I will round the result to two decimal places as requested.\n",
      "Action: calculate: (37 + 7 + 20) / 3\n",
      "PAUSE\n",
      "calculate (37 + 7 + 20) / 3\n",
      "---Executing action calculate with input (37 + 7 + 20) / 3---\n",
      "Observation: 21.333333333333332\n",
      "Answer: The combined weight of the Border Collie, Toy Poodle, and Scottish Terrier is 64 lbs, and the average weight of the dogs is 21.33 lbs.\n"
     ]
    }
   ],
   "execution_count": 59
  },
  {
   "metadata": {},
   "cell_type": "markdown",
   "source": "",
   "id": "651d9f2f568a25f0"
  }
 ],
 "metadata": {
  "kernelspec": {
   "display_name": "Python 3",
   "language": "python",
   "name": "python3"
  },
  "language_info": {
   "codemirror_mode": {
    "name": "ipython",
    "version": 2
   },
   "file_extension": ".py",
   "mimetype": "text/x-python",
   "name": "python",
   "nbconvert_exporter": "python",
   "pygments_lexer": "ipython2",
   "version": "2.7.6"
  }
 },
 "nbformat": 4,
 "nbformat_minor": 5
}
